{
 "cells": [
  {
   "cell_type": "code",
   "execution_count": 4,
   "id": "e19ad9d6",
   "metadata": {},
   "outputs": [
    {
     "name": "stdout",
     "output_type": "stream",
     "text": [
      "['__add__', '__class__', '__class_getitem__', '__contains__', '__delattr__', '__delitem__', '__dir__', '__doc__', '__eq__', '__format__', '__ge__', '__getattribute__', '__getitem__', '__gt__', '__hash__', '__iadd__', '__imul__', '__init__', '__init_subclass__', '__iter__', '__le__', '__len__', '__lt__', '__mul__', '__ne__', '__new__', '__reduce__', '__reduce_ex__', '__repr__', '__reversed__', '__rmul__', '__setattr__', '__setitem__', '__sizeof__', '__str__', '__subclasshook__', 'append', 'clear', 'copy', 'count', 'extend', 'index', 'insert', 'pop', 'remove', 'reverse', 'sort']\n"
     ]
    }
   ],
   "source": [
    "print(dir([]))"
   ]
  },
  {
   "cell_type": "code",
   "execution_count": 2,
   "id": "78e4d3e5",
   "metadata": {},
   "outputs": [
    {
     "name": "stdout",
     "output_type": "stream",
     "text": [
      "['__and__', '__class__', '__class_getitem__', '__contains__', '__delattr__', '__dir__', '__doc__', '__eq__', '__format__', '__ge__', '__getattribute__', '__gt__', '__hash__', '__iand__', '__init__', '__init_subclass__', '__ior__', '__isub__', '__iter__', '__ixor__', '__le__', '__len__', '__lt__', '__ne__', '__new__', '__or__', '__rand__', '__reduce__', '__reduce_ex__', '__repr__', '__ror__', '__rsub__', '__rxor__', '__setattr__', '__sizeof__', '__str__', '__sub__', '__subclasshook__', '__xor__', 'add', 'clear', 'copy', 'difference', 'difference_update', 'discard', 'intersection', 'intersection_update', 'isdisjoint', 'issubset', 'issuperset', 'pop', 'remove', 'symmetric_difference', 'symmetric_difference_update', 'union', 'update']\n"
     ]
    }
   ],
   "source": [
    "print(dir(set))"
   ]
  },
  {
   "cell_type": "code",
   "execution_count": 6,
   "id": "1950779b",
   "metadata": {},
   "outputs": [
    {
     "name": "stdout",
     "output_type": "stream",
     "text": [
      "list 1 is:  [15, 36, 0, 11, 2]\n",
      "list 2 is:  [2, 56, 111, 36, 90]\n",
      "duplicate list is:  [2, 36]\n"
     ]
    }
   ],
   "source": [
    "#Aufgabe 1\n",
    "def find_duplicates(list1,list2):\n",
    "    duplicate_list = []\n",
    "    list1_set = set()\n",
    "    \n",
    "    for element in list1:\n",
    "        list1_set.add(element)\n",
    "        \n",
    "    for element in list2:\n",
    "        if element in list1_set:\n",
    "            duplicate_list.append(element)\n",
    "    return duplicate_list\n",
    "\n",
    "list1 = [15, 36, 0, 11, 2]\n",
    "list2 = [2, 56, 111, 36, 90]\n",
    "\n",
    "print(\"list 1 is: \", list1)\n",
    "print(\"list 2 is: \", list2)\n",
    "print(\"duplicate list is: \", find_duplicates(list1, list2))"
   ]
  },
  {
   "cell_type": "code",
   "execution_count": 9,
   "id": "b2776f87",
   "metadata": {},
   "outputs": [
    {
     "name": "stdout",
     "output_type": "stream",
     "text": [
      "list is:  [17, 40, 51, 101, 25]\n",
      "sorted list is:  [17, 25, 40, 51, 101]\n"
     ]
    }
   ],
   "source": [
    "#Aufgabe 2\n",
    "def sort(lst):\n",
    "    length = len(lst)\n",
    "    \n",
    "    for i in range (1, length):\n",
    "        for j in range (0, length - 1):\n",
    "            if lst [j] > lst [j +1]:\n",
    "                number = lst [j]\n",
    "                lst [j] = lst [j +1]\n",
    "                lst [j +1] = number\n",
    "\n",
    "lst = [17 , 40 , 51 , 101 , 25]\n",
    "print(\"list is: \", lst)\n",
    "sort(lst)\n",
    "print(\"sorted list is: \", lst)"
   ]
  }
 ],
 "metadata": {
  "kernelspec": {
   "display_name": "Python 3 (ipykernel)",
   "language": "python",
   "name": "python3"
  },
  "language_info": {
   "codemirror_mode": {
    "name": "ipython",
    "version": 3
   },
   "file_extension": ".py",
   "mimetype": "text/x-python",
   "name": "python",
   "nbconvert_exporter": "python",
   "pygments_lexer": "ipython3",
   "version": "3.9.7"
  }
 },
 "nbformat": 4,
 "nbformat_minor": 5
}
