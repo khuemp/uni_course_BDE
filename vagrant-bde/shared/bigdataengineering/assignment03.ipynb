{
 "cells": [
  {
   "cell_type": "markdown",
   "metadata": {},
   "source": [
    "# 3 Implementierung Co-Group-Join (5 Punkte)\n",
    "\n",
    "Copyright Jens Dittrich & Marcel Maltry, [Big Data Analytics Group](https://bigdata.uni-saarland.de/), [CC-BY-SA](https://creativecommons.org/licenses/by-sa/4.0/legalcode)\n"
   ]
  },
  {
   "cell_type": "code",
   "execution_count": 1,
   "metadata": {},
   "outputs": [],
   "source": [
    "from os import listdir\n",
    "from graphviz import Source\n",
    "\n",
    "from ra.relation import Relation\n",
    "from ra.operators_log import *\n",
    "from ra.operators_phys import *\n",
    "from ra.utils import load_csv"
   ]
  },
  {
   "cell_type": "markdown",
   "metadata": {},
   "source": [
    "In the following, you should implement the Equi-Join operator in two steps:\n",
    "1. Complete the implementation of the class `Equi_Join`. This class extends `BinaryOperator` and represents the logical operator equi-join. In particular, the logical operator cannot be evaluated.\n",
    "2. Complete the implementation of the class `Co_Group_Join`. This class extends `Equi_Join` and adds evaluation functionality, i.e. it is a cogroup-based implemention of a physical operator.\n",
    "\n",
    "Submit both the cell containing `class Equi_Join` and the cell containing `class Co_Group_Join` in a text document.\n",
    "\n",
    "\n",
    "## `Equi_Join`\n",
    "\n",
    "Complete the following method:\n",
    "* `get_schema()`: Returns the schema of the operator based on its childrens' schemas. Here you have to return the concatenation of the left and right schema."
   ]
  },
  {
   "cell_type": "code",
   "execution_count": 2,
   "metadata": {},
   "outputs": [],
   "source": [
    "# Exercise\n",
    "# Submit this code cell!\n",
    "class Equi_Join(BinaryOperator):\n",
    "    \"\"\"The equi join\n",
    "\n",
    "    Attributes:\n",
    "        l_input   (:obj: `Operator`): The left input to the equi-join operator.\n",
    "        r_input   (:obj: `Operator`): The right input to the equi-join operator.\n",
    "        l_attrs:  (:obj: `String`): A comma-separated list of left attributes that should be equal.\n",
    "        r_attrs:  (:obj: `String`): A comma-separated list of right attributes that should be equal. \n",
    "    \"\"\"\n",
    "    def __init__(self, l_input, r_input, l_attrs, r_attrs):\n",
    "        # call super constructor, stores child operators\n",
    "        super().__init__(l_input, r_input) \n",
    "        self.l_attrs = str_to_list(l_attrs)\n",
    "        self.r_attrs = str_to_list(r_attrs)\n",
    "        # set color and style node for dot graphs\n",
    "        self.set_dot_attrs({'color':'#FFFC79', 'style': 'filled'})\n",
    "\n",
    "    def __str__(self):\n",
    "        \"\"\"Returns a string representation of the operator tree rooted in this operator.\"\"\"\n",
    "        return f'({self.l_input}) ⨝_{{[{\", \".join(self.l_attrs)}]}},{{[{\", \".join(self.r_attrs)}]}} ({self.r_input})'\n",
    "\n",
    "    def get_schema(self):\n",
    "        \"\"\"Returns the schema of the operator based on its childrens' schemas.\"\"\"\n",
    "        l_child_schema = self.l_input.get_schema()\n",
    "        r_child_schema = self.r_input.get_schema()\n",
    "\n",
    "        # integrity check (equally named attributes are not allowed here)\n",
    "        l_attributes = [a for a, _ in l_child_schema]\n",
    "        r_attributes = [a for a, _ in r_child_schema]\n",
    "        assert len(set(l_attributes) & set(r_attributes)) == 0\n",
    "\n",
    "        # Add your code here!\n",
    "        # ...\n",
    "        # Return the equi-joins schema.\n",
    "        pass\n",
    "\n",
    "    def _dot(self, graph, prefix, caption='⨝_{{[{}]}},{{[{}]}}'):\n",
    "        \"\"\"Adds a node for the operator into the graph and returns the node's name.\"\"\"\n",
    "        # Define unique name within the graph\n",
    "        node_name = prefix + 'Equi_Join'\n",
    "        # The caption is the label already\n",
    "        node_label = caption.format(', '.join(self.l_attrs), ', '.join(self.r_attrs))\n",
    "        # Call `_dot_helper` to insert new node into graph\n",
    "        self._dot_helper(graph, prefix, node_name, node_label)\n",
    "        # Return node's name\n",
    "        return node_name"
   ]
  },
  {
   "cell_type": "markdown",
   "metadata": {},
   "source": [
    "### Schema and Graph check\n",
    "\n",
    "Next, we call the methods that you just implemented. Consider the comments to see whether your implementation produces the expected results."
   ]
  },
  {
   "cell_type": "code",
   "execution_count": 3,
   "metadata": {},
   "outputs": [
    {
     "name": "stdout",
     "output_type": "stream",
     "text": [
      "(foo) ⨝_{[fid]},{[bid]} (bar)\n"
     ]
    }
   ],
   "source": [
    "foo = Relation('foo', [('fid', int), ('name', str), ('cid', int), ('color', str)])\n",
    "rel_foo = LeafRelation(foo)\n",
    "\n",
    "bar = Relation('bar', [('bid', int), ('shape', str)])\n",
    "rel_bar = LeafRelation(bar)\n",
    "\n",
    "foo_bar = Equi_Join(rel_foo, rel_bar, 'fid', 'bid')\n",
    "print(foo_bar)"
   ]
  },
  {
   "cell_type": "code",
   "execution_count": 4,
   "metadata": {},
   "outputs": [
    {
     "name": "stdout",
     "output_type": "stream",
     "text": [
      "TODO: Implement get_schema().\n"
     ]
    }
   ],
   "source": [
    "schema = foo_bar.get_schema()\n",
    "# This should print the operator's schema:\n",
    "# [('fid', <class 'int'>), ('name', <class 'str'>), ('cid', <class 'int'>), ('color', <class 'str'>), \n",
    "# ('bid', <class 'int'>), ('shape', <class 'str'>)]\n",
    "print(schema if schema is not None else \"TODO: Implement get_schema().\")"
   ]
  },
  {
   "cell_type": "code",
   "execution_count": 5,
   "metadata": {},
   "outputs": [
    {
     "data": {
      "image/svg+xml": [
       "<?xml version=\"1.0\" encoding=\"UTF-8\" standalone=\"no\"?>\n",
       "<!DOCTYPE svg PUBLIC \"-//W3C//DTD SVG 1.1//EN\"\n",
       " \"http://www.w3.org/Graphics/SVG/1.1/DTD/svg11.dtd\">\n",
       "<!-- Generated by graphviz version 3.0.0 (0)\n",
       " -->\n",
       "<!-- Pages: 1 -->\n",
       "<svg width=\"161pt\" height=\"116pt\"\n",
       " viewBox=\"0.00 0.00 161.39 116.00\" xmlns=\"http://www.w3.org/2000/svg\" xmlns:xlink=\"http://www.w3.org/1999/xlink\">\n",
       "<g id=\"graph0\" class=\"graph\" transform=\"scale(1 1) rotate(0) translate(4 112)\">\n",
       "<polygon fill=\"white\" stroke=\"transparent\" points=\"-4,4 -4,-112 157.39,-112 157.39,4 -4,4\"/>\n",
       "<!-- Equi_Join -->\n",
       "<g id=\"node1\" class=\"node\">\n",
       "<title>Equi_Join</title>\n",
       "<ellipse fill=\"#fffc79\" stroke=\"#fffc79\" cx=\"76.69\" cy=\"-90\" rx=\"76.89\" ry=\"18\"/>\n",
       "<text text-anchor=\"middle\" x=\"76.69\" y=\"-86.3\" font-family=\"Times,serif\" font-size=\"14.00\">⨝_{[fid]},{[bid]}</text>\n",
       "</g>\n",
       "<!-- LRel -->\n",
       "<g id=\"node2\" class=\"node\">\n",
       "<title>LRel</title>\n",
       "<ellipse fill=\"none\" stroke=\"black\" cx=\"40.69\" cy=\"-18\" rx=\"27\" ry=\"18\"/>\n",
       "<text text-anchor=\"middle\" x=\"40.69\" y=\"-14.3\" font-family=\"Times,serif\" font-size=\"14.00\">foo</text>\n",
       "</g>\n",
       "<!-- LRel&#45;&gt;Equi_Join -->\n",
       "<g id=\"edge1\" class=\"edge\">\n",
       "<title>LRel&#45;&gt;Equi_Join</title>\n",
       "<path fill=\"none\" stroke=\"black\" d=\"M49.04,-35.24C53.24,-43.39 58.42,-53.47 63.16,-62.69\"/>\n",
       "<polygon fill=\"black\" stroke=\"black\" points=\"60.2,-64.58 67.89,-71.88 66.43,-61.38 60.2,-64.58\"/>\n",
       "</g>\n",
       "<!-- RRel -->\n",
       "<g id=\"node3\" class=\"node\">\n",
       "<title>RRel</title>\n",
       "<ellipse fill=\"none\" stroke=\"black\" cx=\"112.69\" cy=\"-18\" rx=\"27\" ry=\"18\"/>\n",
       "<text text-anchor=\"middle\" x=\"112.69\" y=\"-14.3\" font-family=\"Times,serif\" font-size=\"14.00\">bar</text>\n",
       "</g>\n",
       "<!-- RRel&#45;&gt;Equi_Join -->\n",
       "<g id=\"edge2\" class=\"edge\">\n",
       "<title>RRel&#45;&gt;Equi_Join</title>\n",
       "<path fill=\"none\" stroke=\"black\" d=\"M104.34,-35.24C100.15,-43.39 94.97,-53.47 90.22,-62.69\"/>\n",
       "<polygon fill=\"black\" stroke=\"black\" points=\"86.96,-61.38 85.5,-71.88 93.19,-64.58 86.96,-61.38\"/>\n",
       "</g>\n",
       "</g>\n",
       "</svg>\n"
      ],
      "text/plain": [
       "<graphviz.graphs.Digraph at 0x7fcde9953a60>"
      ]
     },
     "execution_count": 5,
     "metadata": {},
     "output_type": "execute_result"
    }
   ],
   "source": [
    "graph = foo_bar.get_graph()\n",
    "graph"
   ]
  },
  {
   "cell_type": "markdown",
   "metadata": {},
   "source": [
    "## `Co_Group_Join`\n",
    "\n",
    "Implement the following method:\n",
    "* `evaluate()`: Returns a relation object containing the operators results. Make sure that your implementation is in O(n) where n is the number of result tuples of `l_input` and `r_input`. This runtime requirement only holds if the join is done over the key attributes of both input relations. Your implementation still has to cover all cases. \n",
    "\n",
    "**Implementation Steps**:\n",
    "1. Recursively compute the resulting relations of the left and the right input.\n",
    "2. Create a new Relation for the result tuples.\n",
    "3. Construct the Co-Groups.\n",
    "4. Calculate the resulting join by computing the cross product for each for the partition tuples.\n",
    "\n",
    "**Hints**: \n",
    "- You can create a new Relation by calling `Relation(name, schema)`\n",
    "- In order to receive the list of tuples that are in a Relation `R`, you can call `R.tuples`\n",
    "- You can add a tuple `x` to a relation `R` by calling `R.add_tuple(x)`\n",
    "- If needed, you can also inspect the implementations of other operators in 'ra.operators_phys'."
   ]
  },
  {
   "cell_type": "code",
   "execution_count": 6,
   "metadata": {},
   "outputs": [],
   "source": [
    "# Exercise\n",
    "# Submit this code cell!\n",
    "class Co_Group_Join(Equi_Join):\n",
    "    def _dot(self, graph, prefix):\n",
    "        \"\"\"Adds a node for the operator into the graph and returns the node's name.\"\"\"\n",
    "        return super()._dot(graph, prefix, \"⨝_CoGroupBased{{[{}]}},{{[{}]}}\")\n",
    "    \n",
    "    def __str__(self):\n",
    "        \"\"\"Returns a string representation of the operator tree rooted in this operator.\"\"\"\n",
    "        return f'({self.l_input}) ⨝_CoGroupBased{{[{\", \".join(self.l_attrs)}]}},{{[{\", \".join(self.r_attrs)}]}} ({self.r_input})'\n",
    "    \n",
    "    def evaluate(self):\n",
    "        \"\"\"Returns a relation object containing the operators results.\"\"\"\n",
    "        # Add your code here!\n",
    "        # ...\n",
    "        # Compute the operator's results. Do not use any other operators as subroutines (except cross product)!\n",
    "        # Make sure that your implementation is in O(n) where n is the number of result\n",
    "        # tuples of l_input and r_input (assuming a join over the key attributes of both input relations).\n",
    "        pass"
   ]
  },
  {
   "cell_type": "markdown",
   "metadata": {},
   "source": [
    "### Check schema and graph\n",
    "\n",
    "Next, we call the methods that you just implemented. Consider the comments to see whether your implementation produces the expected results."
   ]
  },
  {
   "cell_type": "code",
   "execution_count": 7,
   "metadata": {},
   "outputs": [
    {
     "name": "stdout",
     "output_type": "stream",
     "text": [
      "(foo) ⨝_CoGroupBased{[fid]},{[bid]} (bar)\n"
     ]
    }
   ],
   "source": [
    "foo_bar = Co_Group_Join(rel_foo, rel_bar, \"fid\", \"bid\")\n",
    "print(foo_bar)"
   ]
  },
  {
   "cell_type": "code",
   "execution_count": 8,
   "metadata": {},
   "outputs": [
    {
     "data": {
      "image/svg+xml": [
       "<?xml version=\"1.0\" encoding=\"UTF-8\" standalone=\"no\"?>\n",
       "<!DOCTYPE svg PUBLIC \"-//W3C//DTD SVG 1.1//EN\"\n",
       " \"http://www.w3.org/Graphics/SVG/1.1/DTD/svg11.dtd\">\n",
       "<!-- Generated by graphviz version 3.0.0 (0)\n",
       " -->\n",
       "<!-- Pages: 1 -->\n",
       "<svg width=\"269pt\" height=\"116pt\"\n",
       " viewBox=\"0.00 0.00 269.28 116.00\" xmlns=\"http://www.w3.org/2000/svg\" xmlns:xlink=\"http://www.w3.org/1999/xlink\">\n",
       "<g id=\"graph0\" class=\"graph\" transform=\"scale(1 1) rotate(0) translate(4 112)\">\n",
       "<polygon fill=\"white\" stroke=\"transparent\" points=\"-4,4 -4,-112 265.28,-112 265.28,4 -4,4\"/>\n",
       "<!-- Equi_Join -->\n",
       "<g id=\"node1\" class=\"node\">\n",
       "<title>Equi_Join</title>\n",
       "<ellipse fill=\"#fffc79\" stroke=\"#fffc79\" cx=\"130.64\" cy=\"-90\" rx=\"130.78\" ry=\"18\"/>\n",
       "<text text-anchor=\"middle\" x=\"130.64\" y=\"-86.3\" font-family=\"Times,serif\" font-size=\"14.00\">⨝_CoGroupBased{[fid]},{[bid]}</text>\n",
       "</g>\n",
       "<!-- LRel -->\n",
       "<g id=\"node2\" class=\"node\">\n",
       "<title>LRel</title>\n",
       "<ellipse fill=\"none\" stroke=\"black\" cx=\"94.64\" cy=\"-18\" rx=\"27\" ry=\"18\"/>\n",
       "<text text-anchor=\"middle\" x=\"94.64\" y=\"-14.3\" font-family=\"Times,serif\" font-size=\"14.00\">foo</text>\n",
       "</g>\n",
       "<!-- LRel&#45;&gt;Equi_Join -->\n",
       "<g id=\"edge1\" class=\"edge\">\n",
       "<title>LRel&#45;&gt;Equi_Join</title>\n",
       "<path fill=\"none\" stroke=\"black\" d=\"M102.99,-35.24C107.18,-43.39 112.37,-53.47 117.11,-62.69\"/>\n",
       "<polygon fill=\"black\" stroke=\"black\" points=\"114.15,-64.58 121.83,-71.88 120.37,-61.38 114.15,-64.58\"/>\n",
       "</g>\n",
       "<!-- RRel -->\n",
       "<g id=\"node3\" class=\"node\">\n",
       "<title>RRel</title>\n",
       "<ellipse fill=\"none\" stroke=\"black\" cx=\"166.64\" cy=\"-18\" rx=\"27\" ry=\"18\"/>\n",
       "<text text-anchor=\"middle\" x=\"166.64\" y=\"-14.3\" font-family=\"Times,serif\" font-size=\"14.00\">bar</text>\n",
       "</g>\n",
       "<!-- RRel&#45;&gt;Equi_Join -->\n",
       "<g id=\"edge2\" class=\"edge\">\n",
       "<title>RRel&#45;&gt;Equi_Join</title>\n",
       "<path fill=\"none\" stroke=\"black\" d=\"M158.29,-35.24C154.1,-43.39 148.91,-53.47 144.17,-62.69\"/>\n",
       "<polygon fill=\"black\" stroke=\"black\" points=\"140.91,-61.38 139.44,-71.88 147.13,-64.58 140.91,-61.38\"/>\n",
       "</g>\n",
       "</g>\n",
       "</svg>\n"
      ],
      "text/plain": [
       "<graphviz.graphs.Digraph at 0x7fcde9951ea0>"
      ]
     },
     "execution_count": 8,
     "metadata": {},
     "output_type": "execute_result"
    }
   ],
   "source": [
    "graph = foo_bar.get_graph()\n",
    "# This should display the operator tree. The tree looks similar to the one above except that the label should\n",
    "# contain \"CoGroupBased\".\n",
    "graph"
   ]
  },
  {
   "cell_type": "markdown",
   "metadata": {},
   "source": [
    "## Testing\n",
    "\n",
    "Finally, the unit test below helps you test whether your implementation of `evaluate()` works on some small examples. Note that this unit test only checks functional correctness. In particular, it does not check whether your implementation of `evaluate()` performs evaluation in O(n)."
   ]
  },
  {
   "cell_type": "code",
   "execution_count": 9,
   "metadata": {},
   "outputs": [],
   "source": [
    "import unittest\n",
    "\n",
    "class EquiJoinTest(unittest.TestCase):\n",
    "    \n",
    "    def test_evaluate(self):\n",
    "        # set up two relations to join\n",
    "        foo = Relation('foo', [('fid', int), ('name', str), ('bar_id', int)])\n",
    "        foo.add_tuple( (1, 'first',  3) )\n",
    "        foo.add_tuple( (2, 'second', 2) )\n",
    "        foo.add_tuple( (3, 'third',  1) )\n",
    "        foo.add_tuple( (4, 'fourth', 1) )\n",
    "        rel_foo = LeafRelation(foo)\n",
    "        \n",
    "        bar = Relation('bar', [('bid', int), ('string', str), ('attr', int)])\n",
    "        bar.add_tuple( (1, 'fourth',  42) )\n",
    "        bar.add_tuple( (2, 'second',  99) )\n",
    "        bar.add_tuple( (3, 'first',    0) )\n",
    "        rel_bar = LeafRelation(bar)\n",
    "        \n",
    "        # join name=string\n",
    "        with self.subTest(msg='name=string'):\n",
    "            l_attrs='name'\n",
    "            r_attrs='string'\n",
    "            eq = Co_Group_Join(rel_foo, rel_bar, l_attrs, r_attrs)\n",
    "            res = eq.evaluate()\n",
    "            \n",
    "            self.assertEqual(len(res), 3)  # result contains 2tuples\n",
    "            self.assertEqual(len(list(res.tuples)[0]), 6)  # result tuples have 6 attributes\n",
    "            self.assertTrue((2, 'second', 2, 2, 'second', 99) in res.tuples)\n",
    "            self.assertTrue((1, 'first',  3, 3, 'first',   0) in res.tuples)\n",
    "            self.assertTrue((4, 'fourth', 1, 1, 'fourth', 42) in res.tuples)\n",
    "            \n",
    "        # join bar_id=bid\n",
    "        with self.subTest(msg='bar_id=bid'):\n",
    "            l_attrs='bar_id'\n",
    "            r_attrs='bid'\n",
    "            eq = Co_Group_Join(rel_foo, rel_bar, l_attrs, r_attrs)\n",
    "            res = eq.evaluate()\n",
    "        \n",
    "            self.assertEqual(len(res), 4)  # result contains 4 tuples\n",
    "            self.assertEqual(len(list(res.tuples)[0]), 6)  # result tuples have 6 attributes\n",
    "            self.assertTrue((1, 'first',  3, 3, 'first',   0) in res.tuples)\n",
    "            self.assertTrue((2, 'second', 2, 2, 'second', 99) in res.tuples)\n",
    "            self.assertTrue((3, 'third',  1, 1, 'fourth', 42) in res.tuples)\n",
    "            self.assertTrue((4, 'fourth', 1, 1, 'fourth', 42) in res.tuples)\n",
    "        \n",
    "        # join bar_id=bid and name=string\n",
    "        with self.subTest(msg='bar_id=bid and name=string'):\n",
    "            l_attrs='bar_id, name'\n",
    "            r_attrs='bid, string'\n",
    "            eq = Co_Group_Join(rel_foo, rel_bar, l_attrs, r_attrs)\n",
    "            res = eq.evaluate()\n",
    "            \n",
    "            self.assertEqual(len(res), 3)  # result contains 2tuples\n",
    "            self.assertEqual(len(list(res.tuples)[0]), 6)  # result tuples have 6 attributes\n",
    "            self.assertTrue((1, 'first',  3, 3, 'first',   0) in res.tuples)\n",
    "            self.assertTrue((2, 'second', 2, 2, 'second', 99) in res.tuples)\n",
    "            self.assertTrue((4, 'fourth', 1, 1, 'fourth', 42) in res.tuples)"
   ]
  },
  {
   "cell_type": "code",
   "execution_count": 10,
   "metadata": {},
   "outputs": [
    {
     "name": "stderr",
     "output_type": "stream",
     "text": [
      "test_evaluate (__main__.EquiJoinTest) ... \n",
      "======================================================================\n",
      "ERROR: test_evaluate (__main__.EquiJoinTest) [name=string]\n",
      "----------------------------------------------------------------------\n",
      "Traceback (most recent call last):\n",
      "  File \"/tmp/ipykernel_1507/4095077010.py\", line 27, in test_evaluate\n",
      "    self.assertEqual(len(res), 3)  # result contains 2tuples\n",
      "TypeError: object of type 'NoneType' has no len()\n",
      "\n",
      "======================================================================\n",
      "ERROR: test_evaluate (__main__.EquiJoinTest) [bar_id=bid]\n",
      "----------------------------------------------------------------------\n",
      "Traceback (most recent call last):\n",
      "  File \"/tmp/ipykernel_1507/4095077010.py\", line 40, in test_evaluate\n",
      "    self.assertEqual(len(res), 4)  # result contains 4 tuples\n",
      "TypeError: object of type 'NoneType' has no len()\n",
      "\n",
      "======================================================================\n",
      "ERROR: test_evaluate (__main__.EquiJoinTest) [bar_id=bid and name=string]\n",
      "----------------------------------------------------------------------\n",
      "Traceback (most recent call last):\n",
      "  File \"/tmp/ipykernel_1507/4095077010.py\", line 54, in test_evaluate\n",
      "    self.assertEqual(len(res), 3)  # result contains 2tuples\n",
      "TypeError: object of type 'NoneType' has no len()\n",
      "\n",
      "----------------------------------------------------------------------\n",
      "Ran 1 test in 0.002s\n",
      "\n",
      "FAILED (errors=3)\n"
     ]
    },
    {
     "data": {
      "text/plain": [
       "<unittest.main.TestProgram at 0x7fcde99a0f70>"
      ]
     },
     "execution_count": 10,
     "metadata": {},
     "output_type": "execute_result"
    }
   ],
   "source": [
    "# Run the unit test without shutting down the jupyter kernel\n",
    "unittest.main(argv=['ignored', '-v'], verbosity=2, exit=False)"
   ]
  }
 ],
 "metadata": {
  "kernelspec": {
   "display_name": "Python 3 (ipykernel)",
   "language": "python",
   "name": "python3"
  },
  "language_info": {
   "codemirror_mode": {
    "name": "ipython",
    "version": 3
   },
   "file_extension": ".py",
   "mimetype": "text/x-python",
   "name": "python",
   "nbconvert_exporter": "python",
   "pygments_lexer": "ipython3",
   "version": "3.10.4"
  },
  "varInspector": {
   "cols": {
    "lenName": 16,
    "lenType": 16,
    "lenVar": 40
   },
   "kernels_config": {
    "python": {
     "delete_cmd_postfix": "",
     "delete_cmd_prefix": "del ",
     "library": "var_list.py",
     "varRefreshCmd": "print(var_dic_list())"
    },
    "r": {
     "delete_cmd_postfix": ") ",
     "delete_cmd_prefix": "rm(",
     "library": "var_list.r",
     "varRefreshCmd": "cat(var_dic_list()) "
    }
   },
   "types_to_exclude": [
    "module",
    "function",
    "builtin_function_or_method",
    "instance",
    "_Feature"
   ],
   "window_display": false
  }
 },
 "nbformat": 4,
 "nbformat_minor": 2
}
