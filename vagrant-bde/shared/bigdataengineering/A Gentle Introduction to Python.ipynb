{
 "cells": [
  {
   "cell_type": "markdown",
   "metadata": {},
   "source": [
    "# A Gentle Introduction to Python"
   ]
  },
  {
   "cell_type": "markdown",
   "metadata": {},
   "source": [
    "Assumes that you already set up jupyter successfully. Assumes that you have had exposure to an object-oriented programming language like Java or C++ before.\n",
    "\n",
    "partially inspired by https://lobster1234.github.io/2017/05/25/python-java-primer/"
   ]
  },
  {
   "cell_type": "markdown",
   "metadata": {},
   "source": [
    "Copyright Jens Dittrich, [Big Data Analytics Group](https://bigdata.uni-saarland.de/), [CC-BY-SA](https://creativecommons.org/licenses/by-sa/4.0/legalcode)"
   ]
  },
  {
   "cell_type": "markdown",
   "metadata": {},
   "source": [
    "## Jupyter Cells"
   ]
  },
  {
   "cell_type": "code",
   "execution_count": 1,
   "metadata": {},
   "outputs": [
    {
     "name": "stdout",
     "output_type": "stream",
     "text": [
      "this is a cell, move the cursor here and hit SHIFT+RETURN\n"
     ]
    }
   ],
   "source": [
    "print('this is a cell, move the cursor here and hit SHIFT+RETURN')"
   ]
  },
  {
   "cell_type": "code",
   "execution_count": 2,
   "metadata": {},
   "outputs": [
    {
     "name": "stdout",
     "output_type": "stream",
     "text": [
      "126\n"
     ]
    },
    {
     "data": {
      "text/plain": [
       "84"
      ]
     },
     "execution_count": 2,
     "metadata": {},
     "output_type": "execute_result"
    }
   ],
   "source": [
    "# an assignment\n",
    "theAnswer=42\n",
    "theAnswer*2\n",
    "# the last evaluation in a cell will be printed\n",
    "print(theAnswer*3)\n",
    "theAnswer*2"
   ]
  },
  {
   "cell_type": "markdown",
   "metadata": {},
   "source": [
    "Yes, this is a **markdown** cell. Cells may be of different type: code or markdown. Code may be python (as we are using a python kernel), but kernels for other languages exist as well, e.g. SQL. \n",
    "\n",
    "Also note that there is neither an In[.] nor an Out[.] on the left side of a markdown cell. You can switch the type of a cell through the menu *or* by using the shortcut ESC+M."
   ]
  },
  {
   "cell_type": "markdown",
   "metadata": {},
   "source": [
    "And just in case you need to typeset some math, simply use LaTeX notation: $$\\sum_{k=1}^{42} k$$"
   ]
  },
  {
   "cell_type": "markdown",
   "metadata": {},
   "source": [
    "### Program State"
   ]
  },
  {
   "cell_type": "code",
   "execution_count": 3,
   "metadata": {},
   "outputs": [
    {
     "data": {
      "text/plain": [
       "42"
      ]
     },
     "execution_count": 3,
     "metadata": {},
     "output_type": "execute_result"
    }
   ],
   "source": [
    "# does the state executed above in that other cell still exists?\n",
    "theAnswer"
   ]
  },
  {
   "cell_type": "markdown",
   "metadata": {},
   "source": [
    "Program state is accumulated in a notebook through every execution of a code cell. This has pros and cons. Sometimes you edit a cell but forget to execute it and wonder why you do not receive the expected result further down in your notebook. Sometimes you execute a cell but forgot to execute the cells above. \n",
    "\n",
    "**When in doubt:** got to Menu \"Kernel\" and hit \"Restart&Run all\". If the bug is still there, it is your fault 😀.\n",
    "\n",
    "On the pro side: jupyter notebooks reflect the iterative style of small-scale programming. Notebooks are fantastic for prototyping. And they are a brilliant mix of program code, markdown/latex, and program output including graphical output:"
   ]
  },
  {
   "cell_type": "code",
   "execution_count": 4,
   "metadata": {},
   "outputs": [
    {
     "data": {
      "text/plain": [
       "<BarContainer object of 2 artists>"
      ]
     },
     "execution_count": 4,
     "metadata": {},
     "output_type": "execute_result"
    },
    {
     "data": {
      "image/png": "[encoded data removed]",
      "text/plain": [
       "<Figure size 432x288 with 1 Axes>"
      ]
     },
     "metadata": {},
     "output_type": "display_data"
    }
   ],
   "source": [
    "import matplotlib.pyplot as plt\n",
    "%matplotlib inline\n",
    "data = {'People that like Python': 93, 'People that do not have taste': 7}\n",
    "names = list(data.keys())\n",
    "values = list(data.values())\n",
    "plt.ylabel('Percentage')\n",
    "plt.bar(names, values)"
   ]
  },
  {
   "cell_type": "markdown",
   "metadata": {},
   "source": [
    "## Python: the Basics"
   ]
  },
  {
   "cell_type": "code",
   "execution_count": 5,
   "metadata": {},
   "outputs": [],
   "source": [
    "# Python is untyped\n",
    "firstname = \"Jens\"\n",
    "lastname = 'Dittrich'\n",
    "age = 42\n",
    "completed = False\n",
    "c = 'A'\n",
    "f = 0.0034"
   ]
  },
  {
   "cell_type": "code",
   "execution_count": 6,
   "metadata": {},
   "outputs": [
    {
     "data": {
      "text/plain": [
       "'Jens'"
      ]
     },
     "execution_count": 6,
     "metadata": {},
     "output_type": "execute_result"
    }
   ],
   "source": [
    "firstname"
   ]
  },
  {
   "cell_type": "code",
   "execution_count": 7,
   "metadata": {},
   "outputs": [
    {
     "data": {
      "text/plain": [
       "'Dittrich'"
      ]
     },
     "execution_count": 7,
     "metadata": {},
     "output_type": "execute_result"
    }
   ],
   "source": [
    "lastname"
   ]
  },
  {
   "cell_type": "code",
   "execution_count": 8,
   "metadata": {},
   "outputs": [
    {
     "data": {
      "text/plain": [
       "'A'"
      ]
     },
     "execution_count": 8,
     "metadata": {},
     "output_type": "execute_result"
    }
   ],
   "source": [
    "c"
   ]
  },
  {
   "cell_type": "markdown",
   "metadata": {},
   "source": [
    "Hello World:"
   ]
  },
  {
   "cell_type": "code",
   "execution_count": 9,
   "metadata": {},
   "outputs": [
    {
     "name": "stdout",
     "output_type": "stream",
     "text": [
      "Hello World\n",
      "Hello World"
     ]
    }
   ],
   "source": [
    "# With newline\n",
    "print(\"Hello World\");\n",
    "# Without newline\n",
    "print(\"Hello World\", end='')\n",
    "#print(\"Hello World\", end='')"
   ]
  },
  {
   "cell_type": "markdown",
   "metadata": {},
   "source": [
    "Notice the brackets after print(..), in Python 2.x you could write print without those brackets."
   ]
  },
  {
   "cell_type": "markdown",
   "metadata": {},
   "source": [
    "Operators:"
   ]
  },
  {
   "cell_type": "code",
   "execution_count": 10,
   "metadata": {},
   "outputs": [
    {
     "name": "stdout",
     "output_type": "stream",
     "text": [
      "Sum :  8\n",
      "Diff :  2\n",
      "Product :  15\n",
      "Modulo :  2\n",
      "Floor Division :  1\n",
      "Float Division :  1.6666666666666667\n"
     ]
    }
   ],
   "source": [
    "i = 5\n",
    "j = 3\n",
    "print(\"Sum : \", i+j)\n",
    "print(\"Diff : \" , i-j)\n",
    "print(\"Product : \" , i*j)\n",
    "print(\"Modulo : \" , i%j)\n",
    "print(\"Floor Division : \" , i//j)\n",
    "print(\"Float Division : \" , i/j)"
   ]
  },
  {
   "cell_type": "markdown",
   "metadata": {},
   "source": [
    "For loop:"
   ]
  },
  {
   "cell_type": "code",
   "execution_count": 11,
   "metadata": {},
   "outputs": [
    {
     "name": "stdout",
     "output_type": "stream",
     "text": [
      "0\n",
      "1\n",
      "2\n",
      "3\n",
      "4\n"
     ]
    }
   ],
   "source": [
    "for n in range(5):\n",
    "    print(n)"
   ]
  },
  {
   "cell_type": "markdown",
   "metadata": {},
   "source": [
    "Yes, a body is not marked by {} but rather denoted through TABs! Looks weirs in the beginningm but you will get used to this quickly."
   ]
  },
  {
   "cell_type": "code",
   "execution_count": 12,
   "metadata": {},
   "outputs": [
    {
     "ename": "IndentationError",
     "evalue": "expected an indented block (<ipython-input-12-ee534247510f>, line 2)",
     "output_type": "error",
     "traceback": [
      "\u001b[0;36m  File \u001b[0;32m\"<ipython-input-12-ee534247510f>\"\u001b[0;36m, line \u001b[0;32m2\u001b[0m\n\u001b[0;31m    print(c)\u001b[0m\n\u001b[0m        ^\u001b[0m\n\u001b[0;31mIndentationError\u001b[0m\u001b[0;31m:\u001b[0m expected an indented block\n"
     ]
    }
   ],
   "source": [
    "for c in \"Manish\":\n",
    "print(c)"
   ]
  },
  {
   "cell_type": "markdown",
   "metadata": {},
   "source": [
    "Yep, this does not work and yields an IndentationError."
   ]
  },
  {
   "cell_type": "code",
   "execution_count": 13,
   "metadata": {},
   "outputs": [
    {
     "name": "stdout",
     "output_type": "stream",
     "text": [
      "P\n",
      "y\n",
      "t\n",
      "h\n",
      "o\n",
      "n\n",
      " \n",
      "r\n",
      "o\n",
      "c\n",
      "k\n",
      "s\n",
      "!\n"
     ]
    }
   ],
   "source": [
    "for c in \"Python rocks!\":\n",
    "    print(c)"
   ]
  },
  {
   "cell_type": "markdown",
   "metadata": {},
   "source": [
    "It does!"
   ]
  },
  {
   "cell_type": "markdown",
   "metadata": {},
   "source": [
    "If then else:"
   ]
  },
  {
   "cell_type": "code",
   "execution_count": 14,
   "metadata": {},
   "outputs": [
    {
     "name": "stdout",
     "output_type": "stream",
     "text": [
      "Not Weird\n"
     ]
    }
   ],
   "source": [
    "n = 42\n",
    "if n%2 == 1:\n",
    "    print(\"Weird\")\n",
    "else:\n",
    "    if n >= 2 and n <= 5:\n",
    "        print(\"Not Weird\")\n",
    "    elif n >= 6 and n <= 20:\n",
    "        print(\"Weird\")\n",
    "    elif n > 20:\n",
    "        print(\"Not Weird\")"
   ]
  },
  {
   "cell_type": "markdown",
   "metadata": {},
   "source": [
    "### Lists"
   ]
  },
  {
   "cell_type": "code",
   "execution_count": 15,
   "metadata": {},
   "outputs": [
    {
     "data": {
      "text/plain": [
       "[]"
      ]
     },
     "execution_count": 15,
     "metadata": {},
     "output_type": "execute_result"
    }
   ],
   "source": [
    "foo = [] # create an empty list\n",
    "foo"
   ]
  },
  {
   "cell_type": "code",
   "execution_count": 16,
   "metadata": {},
   "outputs": [
    {
     "data": {
      "text/plain": [
       "['A', 'B', 'C']"
      ]
     },
     "execution_count": 16,
     "metadata": {},
     "output_type": "execute_result"
    }
   ],
   "source": [
    "foo.append(\"A\") # add to the end\n",
    "foo.append('B') # add to the end, single or double quote makes no difference\n",
    "foo.append(\"C\") # add to the end\n",
    "foo"
   ]
  },
  {
   "cell_type": "code",
   "execution_count": 17,
   "metadata": {},
   "outputs": [
    {
     "data": {
      "text/plain": [
       "['A', 'B', 'D', 'C']"
      ]
     },
     "execution_count": 17,
     "metadata": {},
     "output_type": "execute_result"
    }
   ],
   "source": [
    "foo.insert(2,\"D\")    # insert at an index\n",
    "foo"
   ]
  },
  {
   "cell_type": "code",
   "execution_count": 18,
   "metadata": {},
   "outputs": [
    {
     "data": {
      "text/plain": [
       "['A', 'B', 'D']"
      ]
     },
     "execution_count": 18,
     "metadata": {},
     "output_type": "execute_result"
    }
   ],
   "source": [
    "sorted_list = sorted(foo) # returns a new, sorted list\n",
    "foo.sort()           # in place sort\n",
    "foo.remove(\"C\")      # remove first occurrence of \"C\"\n",
    "foo"
   ]
  },
  {
   "cell_type": "code",
   "execution_count": 19,
   "metadata": {},
   "outputs": [
    {
     "data": {
      "text/plain": [
       "['A', 'B']"
      ]
     },
     "execution_count": 19,
     "metadata": {},
     "output_type": "execute_result"
    }
   ],
   "source": [
    "foo.pop(2) # return and remove the item at index 2\n",
    "foo"
   ]
  },
  {
   "cell_type": "code",
   "execution_count": 20,
   "metadata": {},
   "outputs": [
    {
     "data": {
      "text/plain": [
       "['B', 'A']"
      ]
     },
     "execution_count": 20,
     "metadata": {},
     "output_type": "execute_result"
    }
   ],
   "source": [
    "foo.reverse()       # reverse the list\n",
    "foo"
   ]
  },
  {
   "cell_type": "code",
   "execution_count": 21,
   "metadata": {},
   "outputs": [
    {
     "data": {
      "text/plain": [
       "['B', 'A', 'E', 'F']"
      ]
     },
     "execution_count": 21,
     "metadata": {},
     "output_type": "execute_result"
    }
   ],
   "source": [
    "a = foo.index(\"A\") # return index of \"A\"\n",
    "foo += [\"E\",\"F\"] # add a list with E and F to the end of this list\n",
    "size = len(foo) # size of the list\n",
    "foo"
   ]
  },
  {
   "cell_type": "markdown",
   "metadata": {},
   "source": [
    "### Sets"
   ]
  },
  {
   "cell_type": "code",
   "execution_count": 22,
   "metadata": {},
   "outputs": [
    {
     "data": {
      "text/plain": [
       "{'A', 'Boat', 'The'}"
      ]
     },
     "execution_count": 22,
     "metadata": {},
     "output_type": "execute_result"
    }
   ],
   "source": [
    "set_of_words1 = set()   # create a new set. Note that we do not use {} as that would be a dictionary (see below).\n",
    "set_of_words1.add(\"The\") # add a value\n",
    "set_of_words1.add(\"A\")   # add a value\n",
    "set_of_words1.add(\"Boat\")# add a value\n",
    "set_of_words1"
   ]
  },
  {
   "cell_type": "code",
   "execution_count": 23,
   "metadata": {},
   "outputs": [
    {
     "name": "stdout",
     "output_type": "stream",
     "text": [
      "{'A'}\n"
     ]
    }
   ],
   "source": [
    "set_of_words2 = {\"Anchor\",\"A\",\"Coast\"} # create another set and populate it\n",
    "print(set_of_words1.intersection(set_of_words2)) # intersection of the two sets"
   ]
  },
  {
   "cell_type": "code",
   "execution_count": 24,
   "metadata": {},
   "outputs": [
    {
     "name": "stdout",
     "output_type": "stream",
     "text": [
      "{'The', 'Anchor', 'Coast', 'Boat', 'A'}\n"
     ]
    }
   ],
   "source": [
    "print(set_of_words1.union(set_of_words2)) # union of the two sets"
   ]
  },
  {
   "cell_type": "code",
   "execution_count": 25,
   "metadata": {},
   "outputs": [
    {
     "name": "stdout",
     "output_type": "stream",
     "text": [
      "Coast\n",
      "Anchor\n",
      "A\n"
     ]
    }
   ],
   "source": [
    "for value in set_of_words2 : # iterate over all values in set_of_words2\n",
    "    print(value)"
   ]
  },
  {
   "cell_type": "markdown",
   "metadata": {},
   "source": [
    "### Maps (aka Dictionaries)"
   ]
  },
  {
   "cell_type": "code",
   "execution_count": 26,
   "metadata": {},
   "outputs": [
    {
     "data": {
      "text/plain": [
       "{'anchor': 2, 'dock': 3, 'the': 10, 'a': 8, 'boat': 1}"
      ]
     },
     "execution_count": 26,
     "metadata": {},
     "output_type": "execute_result"
    }
   ],
   "source": [
    "wordcount_map = {} # create a new, empty dict\n",
    "wordcount_map = {\"anchor\":2, \"dock\":3} # create a new dict and add key-values\n",
    "# add keys and values\n",
    "wordcount_map[\"the\"] = 10\n",
    "wordcount_map[\"a\"] = 8\n",
    "wordcount_map[\"boat\"] = 1\n",
    "wordcount_map"
   ]
  },
  {
   "cell_type": "code",
   "execution_count": 27,
   "metadata": {},
   "outputs": [
    {
     "name": "stdout",
     "output_type": "stream",
     "text": [
      "10\n",
      "dict_keys(['anchor', 'dock', 'the', 'a', 'boat'])\n",
      "dict_values([2, 3, 10, 8, 1])\n"
     ]
    }
   ],
   "source": [
    "print(wordcount_map[\"the\"]) # value of a key\n",
    "print(wordcount_map.keys()) # List of keys\n",
    "print(wordcount_map.values()) # List of values"
   ]
  },
  {
   "cell_type": "code",
   "execution_count": 28,
   "metadata": {},
   "outputs": [
    {
     "name": "stdout",
     "output_type": "stream",
     "text": [
      "True\n"
     ]
    }
   ],
   "source": [
    "print(\"a\" in wordcount_map) # True"
   ]
  },
  {
   "cell_type": "code",
   "execution_count": 29,
   "metadata": {},
   "outputs": [
    {
     "name": "stdout",
     "output_type": "stream",
     "text": [
      "dict_items([('anchor', 2), ('dock', 3), ('the', 10), ('a', 8), ('boat', 1)])\n"
     ]
    }
   ],
   "source": [
    "print(wordcount_map.items()) #prints tuples of key-value pairs"
   ]
  },
  {
   "cell_type": "code",
   "execution_count": 30,
   "metadata": {},
   "outputs": [
    {
     "ename": "KeyError",
     "evalue": "'foo'",
     "output_type": "error",
     "traceback": [
      "\u001b[0;31m---------------------------------------------------------------------------\u001b[0m",
      "\u001b[0;31mKeyError\u001b[0m                                  Traceback (most recent call last)",
      "\u001b[0;32m<ipython-input-30-0733c182e901>\u001b[0m in \u001b[0;36m<module>\u001b[0;34m()\u001b[0m\n\u001b[0;32m----> 1\u001b[0;31m \u001b[0mprint\u001b[0m\u001b[0;34m(\u001b[0m\u001b[0mwordcount_map\u001b[0m\u001b[0;34m[\u001b[0m\u001b[0;34m\"foo\"\u001b[0m\u001b[0;34m]\u001b[0m\u001b[0;34m)\u001b[0m \u001b[0;31m# throws a KeyError\u001b[0m\u001b[0;34m\u001b[0m\u001b[0m\n\u001b[0m",
      "\u001b[0;31mKeyError\u001b[0m: 'foo'"
     ]
    }
   ],
   "source": [
    "print(wordcount_map[\"foo\"]) # throws a KeyError"
   ]
  },
  {
   "cell_type": "markdown",
   "metadata": {},
   "source": [
    "### Functions"
   ]
  },
  {
   "cell_type": "code",
   "execution_count": 31,
   "metadata": {},
   "outputs": [
    {
     "data": {
      "text/plain": [
       "42"
      ]
     },
     "execution_count": 31,
     "metadata": {},
     "output_type": "execute_result"
    }
   ],
   "source": [
    "# a simple function\n",
    "def theAnswer():\n",
    "    return 42\n",
    "\n",
    "theAnswer()"
   ]
  },
  {
   "cell_type": "code",
   "execution_count": 32,
   "metadata": {},
   "outputs": [
    {
     "data": {
      "text/plain": [
       "42"
      ]
     },
     "execution_count": 32,
     "metadata": {},
     "output_type": "execute_result"
    }
   ],
   "source": [
    "# default function parameter:\n",
    "def kindOfIdentity(bla=42):\n",
    "    return bla\n",
    "\n",
    "kindOfIdentity()"
   ]
  },
  {
   "cell_type": "code",
   "execution_count": 33,
   "metadata": {},
   "outputs": [
    {
     "data": {
      "text/plain": [
       "11"
      ]
     },
     "execution_count": 33,
     "metadata": {},
     "output_type": "execute_result"
    }
   ],
   "source": [
    "kindOfIdentity(11)"
   ]
  },
  {
   "cell_type": "markdown",
   "metadata": {},
   "source": [
    "Functions without side effects:"
   ]
  },
  {
   "cell_type": "code",
   "execution_count": 34,
   "metadata": {},
   "outputs": [
    {
     "name": "stdout",
     "output_type": "stream",
     "text": [
      "[0, 1, 1, 2, 3, 5, 8]\n",
      "[47, 11]\n",
      "[0, 1, 1, 2, 3, 5, 8]\n"
     ]
    }
   ],
   "source": [
    "# no side effect:\n",
    "def func1(mylist):\n",
    "    print (mylist)\n",
    "    mylist = [47,11] \n",
    "    print (mylist)\n",
    "\n",
    "fib = [0,1,1,2,3,5,8]\n",
    "func1(fib)\n",
    "print(fib)"
   ]
  },
  {
   "cell_type": "code",
   "execution_count": 35,
   "metadata": {},
   "outputs": [
    {
     "name": "stdout",
     "output_type": "stream",
     "text": [
      "4463871944\n",
      "4463769160\n",
      "4463871944\n"
     ]
    }
   ],
   "source": [
    "def func1(mylist):\n",
    "    print (id(mylist))\n",
    "    mylist = [47,11] # this creates a new list object and assigns it to list!\n",
    "    print (id(mylist))\n",
    "\n",
    "fib = [0,1,1,2,3,5,8]\n",
    "func1(fib)\n",
    "print (id(fib))"
   ]
  },
  {
   "cell_type": "markdown",
   "metadata": {},
   "source": [
    "Functions **with** side effects:"
   ]
  },
  {
   "cell_type": "code",
   "execution_count": 36,
   "metadata": {},
   "outputs": [
    {
     "name": "stdout",
     "output_type": "stream",
     "text": [
      "4463697736 [0, 1, 1, 2, 3, 5, 8]\n",
      "4463697736 [0, 1, 1, 2, 3, 5, 8, 47, 11]\n",
      "4463697736 [0, 1, 1, 2, 3, 5, 8, 47, 11]\n"
     ]
    }
   ],
   "source": [
    "# list and fib refer the same address as shown by calling id():\n",
    "def func2(mylist):\n",
    "    print (id(mylist), mylist)\n",
    "    mylist += [47,11] # appends two elements to the array\n",
    "    print (id(mylist), mylist)\n",
    "    \n",
    "fib = [0,1,1,2,3,5,8]\n",
    "func2(fib)\n",
    "print (id(fib), fib)\n"
   ]
  },
  {
   "cell_type": "markdown",
   "metadata": {},
   "source": [
    "Functions **without** side effects:"
   ]
  },
  {
   "cell_type": "code",
   "execution_count": 37,
   "metadata": {},
   "outputs": [
    {
     "name": "stdout",
     "output_type": "stream",
     "text": [
      "4463620144 bla\n",
      "4463723944 blablub\n",
      "4463620144 bla\n"
     ]
    }
   ],
   "source": [
    "# no side effect:\n",
    "def func3(stlocal):\n",
    "    print (id(stlocal), stlocal)\n",
    "    stlocal += 'blub' # this creates a new string object and assigns it to stlocal!\n",
    "    print (id(stlocal), stlocal)\n",
    "    \n",
    "st = 'bla'\n",
    "func3(st)\n",
    "print (id(st), st)"
   ]
  },
  {
   "cell_type": "markdown",
   "metadata": {},
   "source": [
    "Generator function:"
   ]
  },
  {
   "cell_type": "code",
   "execution_count": 38,
   "metadata": {},
   "outputs": [
    {
     "name": "stdout",
     "output_type": "stream",
     "text": [
      "0\n",
      "1\n",
      "4\n",
      "9\n",
      "16\n",
      "25\n",
      "36\n",
      "49\n",
      "64\n",
      "81\n"
     ]
    }
   ],
   "source": [
    "# generator function\n",
    "def square(n):\n",
    "    for i in range(n):\n",
    "        yield i**2\n",
    "\n",
    "for i in square(10):\n",
    "    print(i)"
   ]
  },
  {
   "cell_type": "markdown",
   "metadata": {},
   "source": [
    "### Classes and Objects"
   ]
  },
  {
   "cell_type": "code",
   "execution_count": 39,
   "metadata": {},
   "outputs": [],
   "source": [
    "class A:\n",
    "    def __init__(self, data=['what','ever']): # the constructor\n",
    "        self.words = data\n",
    "        print('constructor of class A was called')\n",
    "\n",
    "    # the \"kind of\"-destructor/finalizer\n",
    "    # Note that in Python (as in Java) and in contrast to languages like C++ there is no guarantee\n",
    "    # if and when this method will be executed!\n",
    "    # If you want to make sure that certain cleanup routines are executed, define a separate close()-method.\n",
    "    def __del__(self):                        \n",
    "        print('destructor of an instance of A was called')\n",
    "        if self.words != None:\n",
    "            del(self.words)\n",
    "\n",
    "    def __len__(self): # think of \"self\" as \"this\" in Java, instance methods must have self as their first parameter\n",
    "        return len(self.words)"
   ]
  },
  {
   "cell_type": "code",
   "execution_count": 40,
   "metadata": {},
   "outputs": [
    {
     "name": "stdout",
     "output_type": "stream",
     "text": [
      "constructor of class A was called\n",
      "2\n",
      "['what', 'ever']\n"
     ]
    }
   ],
   "source": [
    "# Usage\n",
    "a = A()     # create an instance oy MyClass\n",
    "print(len(a))  # will print 2\n",
    "print(a.words)    # will print ['what','ever']\n",
    "a2 = a"
   ]
  },
  {
   "cell_type": "code",
   "execution_count": 41,
   "metadata": {},
   "outputs": [],
   "source": [
    "# the following has no effect as d still has a reference to the instance:\n",
    "a = None"
   ]
  },
  {
   "cell_type": "code",
   "execution_count": 42,
   "metadata": {},
   "outputs": [
    {
     "name": "stdout",
     "output_type": "stream",
     "text": [
      "destructor of an instance of A was called\n"
     ]
    }
   ],
   "source": [
    "# setting the last ref to the object to None will call the destructor (reference counting):\n",
    "a2 = None"
   ]
  },
  {
   "cell_type": "code",
   "execution_count": 43,
   "metadata": {},
   "outputs": [
    {
     "name": "stdout",
     "output_type": "stream",
     "text": [
      "constructor of class A was called\n",
      "2\n",
      "['foo', 'bar']\n"
     ]
    }
   ],
   "source": [
    "a3 = A([\"foo\",\"bar\"])\n",
    "print(len(a3))  # will print 2\n",
    "print(a3.words)    # will print ['foo','bar']"
   ]
  },
  {
   "cell_type": "code",
   "execution_count": 44,
   "metadata": {},
   "outputs": [],
   "source": [
    "# B is a subclass of A:\n",
    "class B(A):\n",
    "    def __init__(self, data=None): # the constructor\n",
    "        super().__init__(data)     # call the constructor of the superclass\n",
    "        print('constructor of class B was called')\n",
    "        # do something here...\n",
    "        \n",
    "    def __del__(self): \n",
    "        print('destructor of an instance of B was called')\n",
    "        # do something here...\n",
    "\n",
    "        super().__del__()         # call the destructor of the superclass"
   ]
  },
  {
   "cell_type": "code",
   "execution_count": 45,
   "metadata": {},
   "outputs": [
    {
     "name": "stdout",
     "output_type": "stream",
     "text": [
      "constructor of class A was called\n",
      "constructor of class B was called\n"
     ]
    }
   ],
   "source": [
    "b = B()"
   ]
  },
  {
   "cell_type": "code",
   "execution_count": 46,
   "metadata": {},
   "outputs": [
    {
     "name": "stdout",
     "output_type": "stream",
     "text": [
      "destructor of an instance of B was called\n",
      "destructor of an instance of A was called\n"
     ]
    }
   ],
   "source": [
    "b = None"
   ]
  },
  {
   "cell_type": "markdown",
   "metadata": {},
   "source": [
    "**Pitfall**: Instance vs class attributes"
   ]
  },
  {
   "cell_type": "code",
   "execution_count": 47,
   "metadata": {},
   "outputs": [],
   "source": [
    "# in a class declaration an instance attribute may have the same name as the class attribute!\n",
    "class A: \n",
    "    counter = 0  # a class! attribute used for counting the number of instances of this class\n",
    "    \n",
    "    def __init__(self): \n",
    "        # increase the class attribute:\n",
    "        type(self).counter += 1\n",
    "        # set the instance attribute:\n",
    "        self.counter = 0\n",
    "\n",
    "    def __del__(self): \n",
    "        # decrease the class attribute:\n",
    "        type(self).counter -= 1\n",
    "\n",
    "    def incInstanceCounter(self):\n",
    "        # increase the instance attribute:\n",
    "        self.counter += 1\n",
    "        \n",
    "    def printCounter(self):\n",
    "        print(\"instance: \", self.counter, \" class: \", A.counter)\n",
    "      "
   ]
  },
  {
   "cell_type": "code",
   "execution_count": 48,
   "metadata": {},
   "outputs": [
    {
     "name": "stdout",
     "output_type": "stream",
     "text": [
      "instance:  0  class:  1\n",
      "instance:  0  class:  2\n",
      "instance:  0  class:  2\n",
      "instance:  1  class:  2\n",
      "instance:  2  class:  2\n"
     ]
    },
    {
     "data": {
      "text/plain": [
       "0"
      ]
     },
     "execution_count": 48,
     "metadata": {},
     "output_type": "execute_result"
    }
   ],
   "source": [
    "# let's instantiate some objects and thereby increase the instance counter:\n",
    "x = A()\n",
    "x.printCounter()\n",
    "y = A()\n",
    "x.printCounter()\n",
    "y.printCounter()\n",
    "\n",
    "# now let's increase the instance attributes:\n",
    "x.incInstanceCounter()\n",
    "x.printCounter()\n",
    "x.incInstanceCounter()\n",
    "x.printCounter()\n",
    "x = None\n",
    "y = None\n",
    "A.counter"
   ]
  }
 ],
 "metadata": {
  "kernelspec": {
   "display_name": "Python 3",
   "language": "python",
   "name": "python3"
  },
  "language_info": {
   "codemirror_mode": {
    "name": "ipython",
    "version": 3
   },
   "file_extension": ".py",
   "mimetype": "text/x-python",
   "name": "python",
   "nbconvert_exporter": "python",
   "pygments_lexer": "ipython3",
   "version": "3.6.5"
  },
  "varInspector": {
   "cols": {
    "lenName": 16,
    "lenType": 16,
    "lenVar": 40
   },
   "kernels_config": {
    "python": {
     "delete_cmd_postfix": "",
     "delete_cmd_prefix": "del ",
     "library": "var_list.py",
     "varRefreshCmd": "print(var_dic_list())"
    },
    "r": {
     "delete_cmd_postfix": ") ",
     "delete_cmd_prefix": "rm(",
     "library": "var_list.r",
     "varRefreshCmd": "cat(var_dic_list()) "
    }
   },
   "types_to_exclude": [
    "module",
    "function",
    "builtin_function_or_method",
    "instance",
    "_Feature"
   ],
   "window_display": false
  }
 },
 "nbformat": 4,
 "nbformat_minor": 2
}
